{
  "nbformat": 4,
  "nbformat_minor": 0,
  "metadata": {
    "colab": {
      "provenance": []
    },
    "kernelspec": {
      "name": "python3",
      "display_name": "Python 3"
    },
    "language_info": {
      "name": "python"
    }
  },
  "cells": [
    {
      "cell_type": "markdown",
      "source": [
        "## Crear un token de usuario para la API standard de Twitter"
      ],
      "metadata": {
        "id": "AMHkMC-i50Iv"
      }
    },
    {
      "cell_type": "code",
      "source": [
        "import os\n",
        "import sys\n",
        "import tweepy\n",
        "import pandas as pd\n",
        "from IPython.display import Javascript\n",
        "def window_open(url):\n",
        "    display(Javascript('window.open(\"{url}\");'.format(url=url)))\n",
        "\n",
        "keys_app_file=\"https://raw.githubusercontent.com/congosto/t-hoarder_kit/master/keys/taller_datos.key\" \n",
        "username= \"xxxxxxxx\"  ## your profile name\n",
        "keys_app = pd.read_csv(keys_app_file)\n",
        "auth = tweepy.OAuthHandler(keys_app['key1'][0], keys_app['key2'][0])\n",
        "auth.secure = True\n",
        "url_autoriza = auth.get_authorization_url()\n",
        "print (url_autoriza)\n",
        "# Open authorization URL in browser\n",
        "window_open(url_autoriza)\n",
        "# Ask user for verifier pin\n",
        "pin = input('Verification pin number from twitter.com: ').strip()\n",
        "# Get access token\n",
        "(token_key,token_secret) = auth.get_access_token(verifier=pin)\n",
        "# Give user the access token\n",
        "  \n",
        "file_out= username+'.txt'\n",
        "f_out=  open(file_out, 'w')  \n",
        "f_out.write (\"%s\\n\" % ( token_key))\n",
        "f_out.write (\"%s\\n\" % ( token_secret))\n",
        "f_out.close ()\n",
        "print ('Access token generado con éxito. Guardado en %s:' % file_out)\n",
        " "
      ],
      "metadata": {
        "colab": {
          "base_uri": "https://localhost:8080/",
          "height": 69
        },
        "id": "wsNsYnd1_npl",
        "outputId": "241838ee-4ce2-4a1e-dee8-f342642784dd"
      },
      "execution_count": null,
      "outputs": [
        {
          "output_type": "stream",
          "name": "stdout",
          "text": [
            "https://api.twitter.com/oauth/authorize?oauth_token=rot2OwAAAAAAuPqCAAABhUD3i0k\n"
          ]
        },
        {
          "output_type": "display_data",
          "data": {
            "text/plain": [
              "<IPython.core.display.Javascript object>"
            ],
            "application/javascript": [
              "window.open(\"https://api.twitter.com/oauth/authorize?oauth_token=rot2OwAAAAAAuPqCAAABhUD3i0k\");"
            ]
          },
          "metadata": {}
        },
        {
          "output_type": "stream",
          "name": "stdout",
          "text": [
            "Verification pin number from twitter.com: 9516147\n",
            "Access token generado con éxito. Guardado en xxxxxxxx.txt:\n"
          ]
        }
      ]
    }
  ]
}